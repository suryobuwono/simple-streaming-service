{
 "cells": [
  {
   "cell_type": "code",
   "execution_count": 1,
   "id": "391e16b0-d365-4b89-a9d8-e105ff53b19e",
   "metadata": {},
   "outputs": [],
   "source": [
    "from pacflix import ExistingUser\n",
    "from pacflix import NewUser"
   ]
  },
  {
   "cell_type": "code",
   "execution_count": 2,
   "id": "ed16d82c-5feb-49c1-b6b7-637003fd3cae",
   "metadata": {},
   "outputs": [],
   "source": [
    "# External data given to verify referral code\n",
    "data = {\n",
    "    \"Shandy\": [\"Basic Plan\", 12, \"shandy-2134\"],\n",
    "    \"Cahya\": [\"Standard Plan\", 24, \"cahya-abcd\"],\n",
    "    \"Ana\": [\"Premium Plan\", 5, \"ana-2f9g\"],\n",
    "    \"Bagus\": [\"Basic Plan\", 11, \"bagus-9f92\"]\n",
    "}"
   ]
  },
  {
   "cell_type": "markdown",
   "id": "b2d2525b-052c-4359-bd9a-f51023814a51",
   "metadata": {},
   "source": [
    "---"
   ]
  },
  {
   "cell_type": "markdown",
   "id": "2dc78515-06b9-4cef-945d-c931289b7b40",
   "metadata": {},
   "source": [
    "#### Test Case 1"
   ]
  },
  {
   "cell_type": "code",
   "execution_count": 3,
   "id": "99eeb21d-e136-44d1-8512-76c561e14216",
   "metadata": {},
   "outputs": [
    {
     "name": "stdout",
     "output_type": "stream",
     "text": [
      "Shandy\n",
      "12\n",
      "Basic Plan\n"
     ]
    }
   ],
   "source": [
    "# create object for ExistingUser class\n",
    "user_1 = ExistingUser(\"Shandy\", 12, \"Basic Plan\")\n",
    "\n",
    "# check instance attributes\n",
    "print(user_1.username)\n",
    "print(user_1.duration_plan)\n",
    "print(user_1.current_plan)"
   ]
  },
  {
   "cell_type": "markdown",
   "id": "fcf9088e-5856-4297-b99c-26dedd37aece",
   "metadata": {},
   "source": [
    "---"
   ]
  },
  {
   "cell_type": "markdown",
   "id": "caa6c1da-a731-43fa-a017-1a5627a4b8b0",
   "metadata": {},
   "source": [
    "#### Test Case 2"
   ]
  },
  {
   "cell_type": "code",
   "execution_count": 4,
   "id": "f2d28b03-b6bf-4241-9063-554fa26a6a4c",
   "metadata": {},
   "outputs": [
    {
     "name": "stdout",
     "output_type": "stream",
     "text": [
      "PacFlix Plan List\n",
      " \n",
      "Basic Plan            Standard Plan                Premium Plan                                          Services\n",
      "--------------------  ---------------------------  ----------------------------------------------------  -----------------\n",
      "True                  True                         True                                                  Can Stream\n",
      "True                  True                         True                                                  Can Download\n",
      "True                  True                         True                                                  SD Quality\n",
      "False                 True                         True                                                  HD Quality\n",
      "False                 False                        True                                                  UHD Quality\n",
      "1                     2                            4                                                     Number of Devices\n",
      "3rd party Movie only  Basic Plan Content + Sports  Basic Plan + Standard Plan + PacFlix Original Series  Content Type\n",
      "120000                160000                       200000                                                Price\n"
     ]
    }
   ],
   "source": [
    "# check PacFlix plan list and benefits\n",
    "user_1.check_benefit()"
   ]
  },
  {
   "cell_type": "markdown",
   "id": "fcb0dda1-21eb-4478-945a-a8e49452c791",
   "metadata": {},
   "source": [
    "---"
   ]
  },
  {
   "cell_type": "markdown",
   "id": "bfbb935c-5d16-4141-b60d-fc07a63e382f",
   "metadata": {},
   "source": [
    "#### Test Case 3"
   ]
  },
  {
   "cell_type": "code",
   "execution_count": 5,
   "id": "fb6b9081-16c7-4e0b-a11d-1a360521c1f0",
   "metadata": {},
   "outputs": [
    {
     "name": "stdout",
     "output_type": "stream",
     "text": [
      "You have been subscribed to Basic Plan for 12 months.\n",
      " \n",
      "Basic Plan            Services\n",
      "--------------------  -----------------\n",
      "True                  Can Stream\n",
      "True                  Can Download\n",
      "True                  SD Quality\n",
      "False                 HD Quality\n",
      "False                 UHD Quality\n",
      "1                     Number of Devices\n",
      "3rd party Movie only  Content Type\n",
      "120000                Price\n"
     ]
    }
   ],
   "source": [
    "# check user's current plan\n",
    "user_1.check_plan()"
   ]
  },
  {
   "cell_type": "markdown",
   "id": "68d791b4-e1f0-4382-a854-237bc421d84a",
   "metadata": {},
   "source": [
    "---"
   ]
  },
  {
   "cell_type": "markdown",
   "id": "15c638d9-82c2-45ff-a310-f3fb361e2c81",
   "metadata": {},
   "source": [
    "#### Test Case 4"
   ]
  },
  {
   "cell_type": "code",
   "execution_count": 6,
   "id": "b771fded-daac-4731-b92f-7bc1fd5f84be",
   "metadata": {},
   "outputs": [
    {
     "name": "stdout",
     "output_type": "stream",
     "text": [
      "Thank you! Your Standard Plan plan is now active.\n",
      " \n",
      "The total amount you paid is Rp  160000.00\n"
     ]
    }
   ],
   "source": [
    "# upgrade service to Standard Plan\n",
    "user_1.upgrade_plan(\"Standard Plan\")"
   ]
  },
  {
   "cell_type": "markdown",
   "id": "223d5c08-caa7-4d9e-a887-7439ae1ba651",
   "metadata": {},
   "source": [
    "---"
   ]
  },
  {
   "cell_type": "markdown",
   "id": "7cf7e06d-0589-4017-809e-21bbf3625b81",
   "metadata": {},
   "source": [
    "#### Test Case 5"
   ]
  },
  {
   "cell_type": "code",
   "execution_count": 7,
   "id": "e5330c87-fc44-442f-bfb1-cf9a2b60a55c",
   "metadata": {},
   "outputs": [
    {
     "name": "stdout",
     "output_type": "stream",
     "text": [
      "PacFlix Plan List\n",
      " \n",
      "Basic Plan            Standard Plan                Premium Plan                                          Services\n",
      "--------------------  ---------------------------  ----------------------------------------------------  -----------------\n",
      "True                  True                         True                                                  Can Stream\n",
      "True                  True                         True                                                  Can Download\n",
      "True                  True                         True                                                  SD Quality\n",
      "False                 True                         True                                                  HD Quality\n",
      "False                 False                        True                                                  UHD Quality\n",
      "1                     2                            4                                                     Number of Devices\n",
      "3rd party Movie only  Basic Plan Content + Sports  Basic Plan + Standard Plan + PacFlix Original Series  Content Type\n",
      "120000                160000                       200000                                                Price\n",
      "\n",
      "***\n",
      "\n",
      "You have been subscribed to Standard Plan for 24 months.\n",
      " \n",
      "Standard Plan                Services\n",
      "---------------------------  -----------------\n",
      "True                         Can Stream\n",
      "True                         Can Download\n",
      "True                         SD Quality\n",
      "True                         HD Quality\n",
      "False                        UHD Quality\n",
      "2                            Number of Devices\n",
      "Basic Plan Content + Sports  Content Type\n",
      "160000                       Price\n",
      "\n",
      "***\n",
      "\n",
      "Thank you! Your Premium Plan plan is now active.\n",
      " \n",
      "You received a discount of Rp  10000.00\n",
      "because you had been subscribed to Standard Plan for more than 12 months.\n",
      " \n",
      "The total amount you paid is Rp  190000.00\n"
     ]
    }
   ],
   "source": [
    "# testing with another object\n",
    "user_2 = ExistingUser(\"Cahya\", 24, \"Standard Plan\")\n",
    "user_2.check_benefit()\n",
    "print(\"\\n***\\n\")\n",
    "user_2.check_plan()\n",
    "print(\"\\n***\\n\")\n",
    "user_2.upgrade_plan(\"Premium Plan\")"
   ]
  },
  {
   "cell_type": "markdown",
   "id": "e5992302-cc3a-4dcb-9ccb-64a81aa62673",
   "metadata": {},
   "source": [
    "---"
   ]
  },
  {
   "cell_type": "markdown",
   "id": "4b0c034d-ebad-4a02-af7f-726ddf5c4f4b",
   "metadata": {},
   "source": [
    "#### Test Case 6"
   ]
  },
  {
   "cell_type": "code",
   "execution_count": 8,
   "id": "eb1f303c-63de-4b91-ab47-5e8537e4f69f",
   "metadata": {},
   "outputs": [
    {
     "name": "stdout",
     "output_type": "stream",
     "text": [
      "Referral code accepted!\n",
      "Thank you! Your Basic Plan plan is now active.\n",
      " \n",
      "You received a discount of Rp  4800.00\n",
      "because you used a valid referral code.\n",
      " \n",
      "The total amount you paid is Rp  115200.00\n"
     ]
    }
   ],
   "source": [
    "# create NewUser object using valid referral code\n",
    "new_user_1 = NewUser(\"Faizal\")\n",
    "new_user_1.pick_plan(\"Basic Plan\", \"bagus-9f92\", data=data)"
   ]
  },
  {
   "cell_type": "markdown",
   "id": "d274c863-bba9-4db1-b7ef-06bfd5d62dab",
   "metadata": {},
   "source": [
    "---"
   ]
  },
  {
   "cell_type": "markdown",
   "id": "5f90b261-7f89-44d7-b204-a77d44a916f9",
   "metadata": {},
   "source": [
    "#### Test Case 7"
   ]
  },
  {
   "cell_type": "code",
   "execution_count": 9,
   "id": "effbd018-6c4e-46a1-86ed-ee6c4a44ad3f",
   "metadata": {},
   "outputs": [
    {
     "ename": "NameError",
     "evalue": "Referral code not found. Leave it blank if you don’t have one.",
     "output_type": "error",
     "traceback": [
      "\u001b[1;31m---------------------------------------------------------------------------\u001b[0m",
      "\u001b[1;31mNameError\u001b[0m                                 Traceback (most recent call last)",
      "Cell \u001b[1;32mIn[9], line 3\u001b[0m\n\u001b[0;32m      1\u001b[0m \u001b[38;5;66;03m# create NewUser object using invalid referral code\u001b[39;00m\n\u001b[0;32m      2\u001b[0m new_user_2 \u001b[38;5;241m=\u001b[39m NewUser(\u001b[38;5;124m\"\u001b[39m\u001b[38;5;124mGuido\u001b[39m\u001b[38;5;124m\"\u001b[39m)\n\u001b[1;32m----> 3\u001b[0m new_user_2\u001b[38;5;241m.\u001b[39mpick_plan(\u001b[38;5;124m\"\u001b[39m\u001b[38;5;124mStandard Plan\u001b[39m\u001b[38;5;124m\"\u001b[39m, \u001b[38;5;124m\"\u001b[39m\u001b[38;5;124mindira-22gs\u001b[39m\u001b[38;5;124m\"\u001b[39m, data\u001b[38;5;241m=\u001b[39mdata)\n",
      "File \u001b[1;32m~\\pacflix.py:175\u001b[0m, in \u001b[0;36mNewUser.pick_plan\u001b[1;34m(self, new_plan, referral_code, data)\u001b[0m\n\u001b[0;32m    172\u001b[0m     discount \u001b[38;5;241m=\u001b[39m \u001b[38;5;241m0.0\u001b[39m\n\u001b[0;32m    174\u001b[0m \u001b[38;5;28;01melif\u001b[39;00m referral_code \u001b[38;5;129;01mnot\u001b[39;00m \u001b[38;5;129;01min\u001b[39;00m valid_referral:\n\u001b[1;32m--> 175\u001b[0m     \u001b[38;5;28;01mraise\u001b[39;00m \u001b[38;5;167;01mNameError\u001b[39;00m(\u001b[38;5;124m\"\u001b[39m\u001b[38;5;124mReferral code not found. Leave it blank if you don’t have one.\u001b[39m\u001b[38;5;124m\"\u001b[39m)\n\u001b[0;32m    176\u001b[0m \u001b[38;5;28;01melse\u001b[39;00m:\n\u001b[0;32m    177\u001b[0m     \u001b[38;5;28mprint\u001b[39m(\u001b[38;5;124m\"\u001b[39m\u001b[38;5;124mReferral code accepted!\u001b[39m\u001b[38;5;124m\"\u001b[39m)\n",
      "\u001b[1;31mNameError\u001b[0m: Referral code not found. Leave it blank if you don’t have one."
     ]
    }
   ],
   "source": [
    "# create NewUser object using invalid referral code\n",
    "new_user_2 = NewUser(\"Guido\")\n",
    "new_user_2.pick_plan(\"Standard Plan\", \"indira-22gs\", data=data) "
   ]
  },
  {
   "cell_type": "markdown",
   "id": "08ca6ffb-3aad-4c47-803a-43bb5f24fbe0",
   "metadata": {},
   "source": [
    "---"
   ]
  },
  {
   "cell_type": "markdown",
   "id": "35df9b91-f66a-49a6-b51b-227cf0b3cfcb",
   "metadata": {},
   "source": [
    "#### Test Case 8"
   ]
  },
  {
   "cell_type": "code",
   "execution_count": 10,
   "id": "f506bfd1-0031-4213-910d-cf150c697d6b",
   "metadata": {},
   "outputs": [
    {
     "name": "stdout",
     "output_type": "stream",
     "text": [
      "Thank you! Your Premium Plan plan is now active.\n",
      " \n",
      "The total amount you paid is Rp  200000.00\n"
     ]
    }
   ],
   "source": [
    "# create NewUser object with no referral code\n",
    "new_user_3 = NewUser(\"Harlan\")\n",
    "new_user_3.pick_plan(\"Premium Plan\")"
   ]
  }
 ],
 "metadata": {
  "kernelspec": {
   "display_name": "Python 3 (ipykernel)",
   "language": "python",
   "name": "python3"
  },
  "language_info": {
   "codemirror_mode": {
    "name": "ipython",
    "version": 3
   },
   "file_extension": ".py",
   "mimetype": "text/x-python",
   "name": "python",
   "nbconvert_exporter": "python",
   "pygments_lexer": "ipython3",
   "version": "3.12.7"
  }
 },
 "nbformat": 4,
 "nbformat_minor": 5
}
